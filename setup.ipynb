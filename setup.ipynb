{
 "cells": [
  {
   "cell_type": "markdown",
   "metadata": {},
   "source": [
    "# Python und diesen Kurs installieren und ausführen\n",
    "\n",
    "Programmiercode ist nur Text. Wir speichern reinen Python Code in `.py` Dateien, doch für wissenschaftliche Anwendungen sind solche Skripte häufig nicht anschaulich genug. Stattdessen verwenden wir [_Jupyter Notebooks_](http://jupyter.org), in denen wir nicht nur Code ausführen sondern auch Text, $\\LaTeX$-Gleichungen, Bilder und mehr hinzufügen können. In diesem Kurs wirst du den Umgang mit Notebooks noch kennenlernen, schließlich sind diese Kursmaterialien selbst Jupyter Notebooks!\n",
    "\n",
    "Das Jupyter Notebook muss dabei immer auf einen _Kernel_ zurückgreifen können, also eine Python Installation auf dem System. Ihr könnt diesen Kurs daher entweder [online auf den Servern von https://mybinder.org ausführen](https://mybinder.org/v2/gh/nilsleiffischer/python-course/deploy?filepath=index.ipynb), oder offline auf eurem Rechner installieren."
   ]
  },
  {
   "cell_type": "markdown",
   "metadata": {},
   "source": [
    "## Python installieren\n",
    "\n",
    "Eine einfache Möglichkeit, den Python Interpreter, Jupyter und wissenschaftliche Packages auf Mac OS X, Linux und Windows zu installieren, ist die [Anaconda](https://www.continuum.io/downloads) Distribution:\n",
    "\n",
    "1. Installiert [Anaconda](https://www.continuum.io/downloads).\n",
    "2. Öffnet den [Anaconda Navigator](https://docs.continuum.io/anaconda/navigator/) und startet die _Jupyter Notebook_ App.\n",
    "3. Im Browserfenster könnt ihr nun durch euer Dateisystem navigieren, Jupyter Notebooks erstellen und darin Python Code ausführen.\n",
    "\n",
    "> Wenn Ihr Erfahrung im Umgang mit der Kommandozeile und Package Managern habt könnt ihr den Python Interpreter auch anderweitig installieren, unter Mac OS X bspw. mit [Homebrew](http://brew.sh). Packages wie `numpy`, `matplotlib` und `scipy` installiert ihr dann mit dem Python Package Manager `pip`. Auch das Jupyter Notebook installiert ihr mit `pip install jupyter`. In der Anaconda Distribution sind diese Packages bereits enthalten.\n",
    "\n",
    "> Habt ihr `jupyter` über die Anaconda Distribution oder `pip` installiert, könnt ihr statt den Anaconda Navigator zu verwenden auch mit der Kommandozeile in ein Verzeichnis navigieren und den Befehl\n",
    ">\n",
    "> ```bash\n",
    "> jupyter notebook\n",
    "> ```\n",
    ">\n",
    "> ausführen. Es öffnet sich ein Browserfenster, in dem ihr Notebooks verwalten, bearbeiten und ausführen könnt."
   ]
  },
  {
   "cell_type": "markdown",
   "metadata": {},
   "source": [
    "## Diesen Kurs herunterladen und ausführen\n",
    "\n",
    "Möchtet ihr den Kurs offline durchführen, könnt ihr die Notebooks einfach [herunterladen](https://github.com/nilsleiffischer/python-course/archive/deploy.zip). Startet die Jupyter Notebook App, navigiert in das Kursverzeichnis und öffnet das [`index.ipynb`](index.ipynb) Notebook. Dies ist die Startseite dieses Kurses.\n",
    "\n",
    "> Wenn ihr nicht die Anaconda Distribution verwendet, stellt sicher, dass ihr die benötigten Packages für diesen Kurs installiert habt. Sie sind in der `requirements.txt` Datei aufgelistet und ihr könnt sie einfach mit `pip` installieren:\n",
    ">\n",
    "> ```bash\n",
    "> pip install -r requirements.txt\n",
    "> ```"
   ]
  },
  {
   "cell_type": "markdown",
   "metadata": {},
   "source": [
    "## Jupyter Notebooks im Praktikum\n",
    "\n",
    "Das Format der Jupyter Notebooks eignet sich hervorragend für die Versuchsauswertungen des Physikalischen Anfängerpraktikums. Erstellt einfach einen Ordner für jeden Versuch und erstellt darin ein Jupyter Notebook. Speichert die Messdaten und Bilder ebenfalls in diesem Ordner um sie im Notebook einfach laden zu können. Dann könnt ihr die Auswertung mit Code, Text und Bildern im Notebook durchführen und anschließend ausgedruckt abgeben.\n",
    "\n",
    "Hinweise wie ihr mit Jupyter Notebooks im Praktikum arbeitet findet ihr auch am Ende dieses Kurses:\n",
    "\n",
    "- [301 - Workflows mit Daten im PAP](301%20-%20Workflows%20mit%20Daten%20im%20PAP.ipynb)"
   ]
  },
  {
   "cell_type": "markdown",
   "metadata": {},
   "source": [
    "## Python Code in der Shell und in Skripten ausführen\n",
    "\n",
    "Ihr habt eine funktionsfähige Python Installation wenn ihr in der Kommandozeile den Befehl `python --version` ausführt und eine Versionsnummer erhaltet. Nun habt ihr neben Jupyter Notebooks viele weitere Möglichkeiten, Python Code auszuführen:\n",
    "\n",
    "Um eure Python Installation zu testen könnt ihr die _Python Shell_ öffnen, indem ihr in der Kommandozeile einfach `python` ausführt. Hier könnt ihr Python Code schreiben und direkt ausführen. Versucht's mal mit `print(\"Hello World!\")`. In der Shell könnt ihr testen, ob Packages wie `numpy`, `matplotlib` und `scipy` installiert sind, indem ihr sie mit `import` versucht zu importieren. Ihr verlasst die Shell mit `exit()`.\n",
    "\n",
    "Natürlich eignet sich die Shell nicht für ernsthaftes Programmieren. Für Skripte oder größere Programme, die Aufgaben ausführen sollen, schreiben wir den Code daher in `.py` Textdateien. Ein guter Texteditor wie [GitHub's Atom](https://atom.io) oder sogar eine vollwertige Entwicklungsumgebung wie [PyCharm](https://www.jetbrains.com/pycharm/) oder [Spyder](https://pythonhosted.org/spyder/) ist dabei essentiell.\n",
    "\n",
    "Erstellt eine Datei `helloworld.py` mit dem Inhalt `print(\"Hello World!\")`. Nun könnt ihr das Skript in der Kommandozeile ausführen:\n",
    "\n",
    "    python path/to/helloworld.py"
   ]
  },
  {
   "cell_type": "markdown",
   "metadata": {},
   "source": [
    "---\n",
    "[Startseite](index.ipynb) | [**>> 101 - Grundlagen der Programmierung in Python**](101%20-%20Grundlagen%20der%20Programmierung%20in%20Python.ipynb)"
   ]
  }
 ],
 "metadata": {
  "kernelspec": {
   "display_name": "Python 3",
   "language": "python",
   "name": "python3"
  },
  "language_info": {
   "codemirror_mode": {
    "name": "ipython",
    "version": 3
   },
   "file_extension": ".py",
   "mimetype": "text/x-python",
   "name": "python",
   "nbconvert_exporter": "python",
   "pygments_lexer": "ipython3",
   "version": "3.8.8"
  }
 },
 "nbformat": 4,
 "nbformat_minor": 1
}

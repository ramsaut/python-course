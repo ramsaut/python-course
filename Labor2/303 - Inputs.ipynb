{
 "cells": [
  {
   "cell_type": "markdown",
   "metadata": {},
   "source": [
    "# Jupyter Inputs"
   ]
  },
  {
   "cell_type": "markdown",
   "metadata": {},
   "source": [
    "Unsere Applikation sollte natürlich nicht nur in der Lage sein Daten auszugeben, sodern wir müssen auch Daten einlesen. Dafür haben wir verschiedene Möglichkeiten."
   ]
  },
  {
   "cell_type": "markdown",
   "metadata": {},
   "source": [
    "## Einfachen Text Input"
   ]
  },
  {
   "cell_type": "code",
   "execution_count": null,
   "metadata": {},
   "outputs": [],
   "source": [
    "name=input()"
   ]
  },
  {
   "cell_type": "code",
   "execution_count": null,
   "metadata": {},
   "outputs": [],
   "source": [
    "print(name)"
   ]
  },
  {
   "cell_type": "markdown",
   "metadata": {},
   "source": [
    "## Passwort"
   ]
  },
  {
   "cell_type": "code",
   "execution_count": null,
   "metadata": {},
   "outputs": [],
   "source": [
    "import getpass\n",
    "\n",
    "password = getpass.getpass()"
   ]
  },
  {
   "cell_type": "code",
   "execution_count": null,
   "metadata": {},
   "outputs": [],
   "source": [
    "# Testet, ob die Passwort Variable gesetzt ist\n",
    "password is None"
   ]
  },
  {
   "cell_type": "markdown",
   "metadata": {},
   "source": [
    "## Widgets"
   ]
  },
  {
   "cell_type": "markdown",
   "metadata": {},
   "source": [
    "ipywidgets gibt uns viele [Widgets](https://ipywidgets.readthedocs.io/en/stable/examples/Widget%20List.html) mit denen wir mit dem Nutzer interagieren können:"
   ]
  },
  {
   "cell_type": "code",
   "execution_count": null,
   "metadata": {},
   "outputs": [],
   "source": [
    "from ipywidgets import interact, interactive, widgets"
   ]
  },
  {
   "cell_type": "code",
   "execution_count": null,
   "metadata": {},
   "outputs": [],
   "source": [
    "# IntSlider\n",
    "w = widgets.IntSlider(\n",
    "    value=7,\n",
    "    min=0,\n",
    "    max=10,\n",
    "    step=1,\n",
    "    description='Test:',\n",
    "    disabled=False,\n",
    "    continuous_update=False,\n",
    "    orientation='horizontal',\n",
    "    readout=True,\n",
    "    readout_format='d'\n",
    ")\n",
    "display(w)"
   ]
  },
  {
   "cell_type": "markdown",
   "metadata": {},
   "source": [
    "Der aktuelle Wert des Widgets w ist in w.value gespeichert"
   ]
  },
  {
   "cell_type": "code",
   "execution_count": null,
   "metadata": {},
   "outputs": [],
   "source": [
    "# Um den Wert zu sehen müssen wir diese Zelle auführen.\n",
    "print(f\"\"\"\n",
    "Test ist: {w.value}\n",
    "Das Doppelte ist: {w.value*2}\"\"\")"
   ]
  },
  {
   "cell_type": "markdown",
   "metadata": {
    "collapsed": true
   },
   "source": [
    "Wir können allerdings auch interaktiv mit dem Wert agieren.\n",
    "Zu diesem Zweck definieren wir uns als eine Funktion, welche unsere Berechnungen durchführt."
   ]
  },
  {
   "cell_type": "code",
   "execution_count": null,
   "metadata": {},
   "outputs": [],
   "source": [
    "def verdoppeln(eingabe):\n",
    "    return eingabe*2"
   ]
  },
  {
   "cell_type": "markdown",
   "metadata": {},
   "source": [
    "Jetzt verwenden wir im Beispiel wieder das Oben erstelle Widget w. Wir weisen Jupyter an, bei jeder Änderung des Nutzers am Widget w die Funktion verdoppeln aufzurufen. Dieser Funktion wird als Attribut eingabe der aktuelle Wert des Widgets w übergeben.\n",
    "\n",
    "Da wir hier das selbe Widget wie im oberen Beispiel verwenden, kannst du beobachten, dass sich jeweils beide Slider bewegen, wenn du einen bewegst."
   ]
  },
  {
   "cell_type": "code",
   "execution_count": null,
   "metadata": {},
   "outputs": [],
   "source": [
    "interact(verdoppeln,eingabe=w)"
   ]
  },
  {
   "cell_type": "markdown",
   "metadata": {},
   "source": [
    "Die Funktion interact gibt als Output die Funktion verdoppeln zurück. Dieser Funktionshandle wird uns von Jupyter daher ausgegeben. Wir könenn diese Ausgabe mit einem Semikolon unterdrücken."
   ]
  },
  {
   "cell_type": "code",
   "execution_count": null,
   "metadata": {},
   "outputs": [],
   "source": [
    "interact(verdoppeln,eingabe=w);"
   ]
  },
  {
   "cell_type": "markdown",
   "metadata": {},
   "source": [
    "### Widget abbreviations"
   ]
  },
  {
   "cell_type": "markdown",
   "metadata": {},
   "source": [
    "Widgets können auch abgekürzt werden um den Code übersichtlicher zu gestalten"
   ]
  },
  {
   "cell_type": "code",
   "execution_count": null,
   "metadata": {},
   "outputs": [],
   "source": [
    "# Das Widget kann auch direkt in der Funktion erstellt werden \n",
    "# und muss nicht erst in eine Variable geschreiben werden\n",
    "interact(verdoppeln, eingabe=widgets.IntSlider(min=0, max=10, step=1, value=7))\n",
    "# Es Ganzzahlwidget kann weiter abgekürzt werden\n",
    "interact(verdoppeln, eingabe=(0,10))\n",
    "# Ein Dropdown kann in kurzer Form wie folgt definiert werden\n",
    "interact(verdoppeln, eingabe=[('eins', 1), ('zwei', 2), ('drei', 3)]);"
   ]
  },
  {
   "cell_type": "markdown",
   "metadata": {},
   "source": [
    "### Mehrere Eingaben"
   ]
  },
  {
   "cell_type": "markdown",
   "metadata": {},
   "source": [
    "Mehrere Eingaben können für eine Interaktion kombiniert werden"
   ]
  },
  {
   "cell_type": "code",
   "execution_count": null,
   "metadata": {},
   "outputs": [],
   "source": [
    "def multiplizieren(a,b):\n",
    "    return a*b\n",
    "\n",
    "w = interact(multiplizieren, a=(-100,100,10), b=(-20,20))"
   ]
  },
  {
   "cell_type": "markdown",
   "metadata": {},
   "source": [
    "### Text Widget"
   ]
  },
  {
   "cell_type": "markdown",
   "metadata": {},
   "source": [
    "Unabhängig von der oben vorgestellten Möglichkeit Text Input vom Nutzer zu bekommen, gibt es auch Widgets um Text einzulesen."
   ]
  },
  {
   "cell_type": "code",
   "execution_count": null,
   "metadata": {},
   "outputs": [],
   "source": [
    "textwidget = widgets.Text(\n",
    "    value='Hello World',\n",
    "    placeholder='Type something',\n",
    "    description='String:',\n",
    "    disabled=False\n",
    ")\n",
    "display(textwidget)"
   ]
  },
  {
   "cell_type": "markdown",
   "metadata": {},
   "source": [
    "Du kannst dieses Textwidget nutzen um Interaktion wie oben mit dem Slider durchzuführen."
   ]
  },
  {
   "cell_type": "markdown",
   "metadata": {},
   "source": [
    "## Aufgaben"
   ]
  },
  {
   "cell_type": "markdown",
   "metadata": {},
   "source": [
    "### Aufgabe 1"
   ]
  },
  {
   "cell_type": "markdown",
   "metadata": {},
   "source": [
    "Zeige ein Widget an, welches es einem Nutzer erlaub sein Geburtsdatum einzugeben. Nutze dafür den Date picker von ipywidgets"
   ]
  },
  {
   "cell_type": "code",
   "execution_count": null,
   "metadata": {},
   "outputs": [],
   "source": [
    "geburtsdatumsWidget = # Hier deine Lösung"
   ]
  },
  {
   "cell_type": "code",
   "execution_count": null,
   "metadata": {},
   "outputs": [],
   "source": [
    "# Der Rückgabewert des Widgets ist vom Typ datetime.date\n",
    "type(geburtsdatumsWidget.value)"
   ]
  },
  {
   "cell_type": "markdown",
   "metadata": {},
   "source": [
    "### Aufgabe 2"
   ]
  },
  {
   "cell_type": "markdown",
   "metadata": {},
   "source": [
    "Schau dir die [Doku](https://docs.python.org/3/library/datetime.html#strftime-strptime-behavior) von datetime.date an und gib den Wochentag aus.\n",
    "\n",
    "Hinweis: Es gibt verschiedene Lösungen. Eine Lösung nutzt die Funktion strftime, welche ein Datum in einem bestimmten Format ausgibt.\n"
   ]
  },
  {
   "cell_type": "code",
   "execution_count": null,
   "metadata": {},
   "outputs": [],
   "source": [
    "# Hier deine Lösung"
   ]
  },
  {
   "cell_type": "markdown",
   "metadata": {},
   "source": [
    "### Aufgabe 3"
   ]
  },
  {
   "cell_type": "markdown",
   "metadata": {},
   "source": [
    "Kombiniere deine Ergebnisse aus den vorherigen zwei Aufgaben zu einer interaktiven Applikation, welche das Geburtsdataum aufnimmt und den Wochentag zurückgibt."
   ]
  },
  {
   "cell_type": "markdown",
   "metadata": {},
   "source": [
    "### Aufgabe 4"
   ]
  },
  {
   "cell_type": "markdown",
   "metadata": {},
   "source": [
    "Erweitere deine Lösung von 302 Aufgabe 3 bei der du die Karte ausgeben hast.\n",
    "Füge drei Slider hinzu, welche genutzt werden können um die Longitude, Latidue des Zentrums und das Zoom Level zu setzen und automatisch die Karte updaten.\n",
    "\n",
    "Hinweis: Nutze continuous_update=False um zu verhindern, dass die Karte kontinuiertlich geupdated wird, während du einen Slider bewegt."
   ]
  },
  {
   "cell_type": "code",
   "execution_count": null,
   "metadata": {},
   "outputs": [],
   "source": [
    "# Deine Lösung hier"
   ]
  }
 ],
 "metadata": {
  "kernelspec": {
   "display_name": "Python 3",
   "language": "python",
   "name": "python3"
  },
  "language_info": {
   "codemirror_mode": {
    "name": "ipython",
    "version": 3
   },
   "file_extension": ".py",
   "mimetype": "text/x-python",
   "name": "python",
   "nbconvert_exporter": "python",
   "pygments_lexer": "ipython3",
   "version": "3.8.8"
  }
 },
 "nbformat": 4,
 "nbformat_minor": 2
}

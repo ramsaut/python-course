{
 "cells": [
  {
   "cell_type": "markdown",
   "id": "gorgeous-championship",
   "metadata": {},
   "source": [
    "# Style Guide"
   ]
  },
  {
   "cell_type": "markdown",
   "id": "empirical-vocabulary",
   "metadata": {},
   "source": [
    "[PEP 8](https://www.python.org/dev/peps/pep-0008/) das, wie der Name schon sagt, 8. PEP (Python Enhancement Proposals) mit dem Titel „Style Guide für Python-Code“ beschreibt und erläutert die wichtigsten Stil-Vorschläge.\n",
    "\n",
    "Der Besitz eines Style Guides ist überaus wichtig, sobald jemand den geschrieben Code lesen soll. Normalerweise schreibt man Code, damit jemand ihn nutzt, davon profitiert und ggf. daran weiterarbeitet oder dadurch etwas neues lernt. Code ist nicht einfach nur einmal geschrieben und nie wieder mehr gelesen, denn:\n",
    "\n",
    " > “Indeed, the ratio of time spent reading versus writing is well over 10 to 1. We are constantly reading old code as part of the effort to write new code. [Therefore,] making it easy to read makes it easier to write.”\n",
    " >\n",
    " >  ‒ Robert C. Martin, Clean Code: A Handbook of Agile Software Craftsmanship\n",
    "\n",
    "Python, als eine Sprache mit einer Community, die sehr viel Wert auf Ästhetik legt, hat glücklicherweise einen offiziellen Style Guide, den man immer beachten sollte."
   ]
  },
  {
   "cell_type": "markdown",
   "id": "grateful-palestine",
   "metadata": {},
   "source": [
    "## Übersicht"
   ]
  },
  {
   "cell_type": "markdown",
   "id": "cubic-myrtle",
   "metadata": {},
   "source": [
    "Es folgt eine Liste der wichtigsten Regeln, sowie deren Erklärung. Viele dieser Regeln müssen nicht eingehalten werden um einen lauffähigen Code zu erhalten. Es hilft aber enorm, insbesondere in Teamprojekten. Daher solltet ihr euch die folgenden Konventionen angewöhnen."
   ]
  },
  {
   "cell_type": "markdown",
   "id": "adolescent-bermuda",
   "metadata": {},
   "source": [
    "<table class=\"table-striped table align-left\"><thead><th scope=\"col\"><p>Nr.</p></th><th scope=\"col\"><p>Regel</p></sth><th scope=\"col\"><p>Bedeutung</p></th></thead><tbody><tr><td><p>1</p></td><td><p>Einrückung</p></td><td><p>4 Leerzeichen, keine Tabs!</p></td></tr><tr><td><p>2</p></td><td><p>Maximale Zeilenlänge</p></td><td><p>79 Chars für Code<br>72 Chars für Kommentare</p></td></tr><tr><td><p>3</p></td><td><p>Zeilenumbrüche bei Operatornutzung</p></td><td><p>Ein Zeilenumbruch sollte vor einem Operator erscheinen</p></td></tr><tr><td><p>4</p></td><td><p>Leerzeilen</p></td><td><p>Leerzeilen nutzen, um thematisch zu trennen</p></td></tr><tr><td><p>5</p></td><td><p>Kodierung der Quelldatei</p></td><td><p>Code sollte immer UTF-8 sein<br>Dateien sollten keine Kodierungdeklaration haben</p></td></tr><tr><td><p>6</p></td><td><p>Anführungszeichen</p></td><td><p>' und \" sind beide akzeptabel<br>– Man sollte aber immer beim ausgewähltem bleiben</p></td></tr><tr><td><p>7</p></td><td><p>Leerzeichen</p></td><td><p>Siehe <a href=\"#7.-Leerzeichen\">Leerzeichen</a></p></td></tr></tbody></table>"
   ]
  },
  {
   "cell_type": "markdown",
   "id": "lined-ministry",
   "metadata": {},
   "source": [
    "## 1. Einrückung"
   ]
  },
  {
   "cell_type": "markdown",
   "id": "upset-lambda",
   "metadata": {},
   "source": [
    "Verwende 4 Leerzeichen pro Einrückungsebene.\n",
    "\n",
    "Fortsetzungszeilen sollten umhüllte Elemente entweder vertikal mit der impliziten Linie von Python ausrichten, die in Klammern (), eckigen Klammern [] oder geschweifte Klammern {} zusammengefügt wird, oder mit einer hängenden Einrückung. Bei der Verwendung einer hängenden Einrückung ist folgendes zu beachten: In der ersten Zeile sollten keine Argumente vorhanden sein und weitere Einzüge sollten verwendet werden, um sich klar als Fortsetzungszeile zu unterscheiden.\n",
    "\n",
    "Ja:\n",
    "\n",
    "```python\n",
    "# Aligned with opening delimiter.\n",
    "foo = long_function_name(var_one, var_two,\n",
    "                         var_three, var_four)\n",
    "\n",
    "# Add 4 spaces (an extra level of indentation) to distinguish arguments from the rest.\n",
    "def long_function_name(\n",
    "        var_one, var_two, var_three,\n",
    "        var_four):\n",
    "    print(var_one)\n",
    "\n",
    "# Hanging indents should add a level.\n",
    "foo = long_function_name(\n",
    "    var_one, var_two,\n",
    "    var_three, var_four)\n",
    "```\n",
    "Nein:\n",
    "```python\n",
    "# Arguments on first line forbidden when not using vertical alignment.\n",
    "foo = long_function_name(var_one, var_two,\n",
    "    var_three, var_four)\n",
    "\n",
    "# Further indentation required as indentation is not distinguishable.\n",
    "def long_function_name(\n",
    "    var_one, var_two, var_three,\n",
    "    var_four):\n",
    "    print(var_one)\n",
    "```\n",
    "Die 4-Leerzeichen-Regel ist optional bei Fortsetzungszeilen."
   ]
  },
  {
   "cell_type": "markdown",
   "id": "completed-round",
   "metadata": {},
   "source": [
    "## 2. Maximale Zeilenlänge"
   ]
  },
  {
   "cell_type": "markdown",
   "id": "irish-chapter",
   "metadata": {},
   "source": [
    "Alle Zeilen sollten laut Style-Guide auf 79 Zeichen begrenzt werden.\n",
    "\n",
    "Für lange Textblöcke mit weniger strukturellen Einschränkungen (Kommentare) sollte die Zeilenlänge auf 72 Zeichen begrenzt werden.\n",
    "\n",
    "Umwicklungsumgebungen zeigen oft an, wenn dieses Limit überschritten wird. "
   ]
  },
  {
   "cell_type": "code",
   "execution_count": 12,
   "id": "dressed-model",
   "metadata": {},
   "outputs": [],
   "source": [
    "# Das ist in Jupyterhub leider nicht sichtbar. Hier ist das Limit    ->|\n",
    "a = \"Und hier ist das Limit für eine Zeile, die kein Kommentar ist.\"      # ->|"
   ]
  },
  {
   "cell_type": "markdown",
   "id": "purple-dialogue",
   "metadata": {},
   "source": [
    "Versucht diese Limits grob einzuhalten, damit euer Code auch auf kleineren Bildschirmen noch gut lesbar ist.\n",
    "\n",
    "Die bevorzugte Art, lange Zeilen zu umbrechen, ist die Verwendung von Pythons impliziter Zeilenfortsetzung innerhalb von allen Klammerarten. Lange Zeilen können über mehrere Zeilen gebrochen werden, indem Ausdrücke in Klammern eingeschlossen werden. Diese sollten anstelle eines Backslash für die Zeilenfortsetzung verwendet werden.\n",
    "\n",
    "Achtet darauf, dass die fortlaufende Zeile entsprechend eingerückt ist."
   ]
  },
  {
   "cell_type": "markdown",
   "id": "digital-thailand",
   "metadata": {},
   "source": [
    "## 3. Zeilenumbrüche bei Operatornutzung"
   ]
  },
  {
   "cell_type": "markdown",
   "id": "bronze-context",
   "metadata": {},
   "source": [
    "Jahrzente wurde es empfohlen nach Operatoren umzubrechen. Es vermindert allerdings die Lesbarkeit:\n",
    " - Die Operatoren verteilen sich über verschiedene Spalten auf dem Bildschirm\n",
    " - Der Operator wird vom Operand getrennt. Das Auge muss Mehrarbeit leisten um zu entschlüsseln welche Objekte addiert werden und welche subtrahiert werden.\n",
    "\n",
    "Ja:\n",
    "```python\n",
    "income = (gross_wages\n",
    "          + taxable_interest\n",
    "          + (dividends - qualified_dividends)\n",
    "          - ira_deduction\n",
    "          - student_loan_interest)\n",
    "```\n",
    "\n",
    "Nein:\n",
    "```python\n",
    "income = (gross_wages +\n",
    "          taxable_interest +\n",
    "          (dividends - qualified_dividends) -\n",
    "          ira_deduction -\n",
    "          student_loan_interest)\n",
    "```"
   ]
  },
  {
   "cell_type": "markdown",
   "id": "cheap-shell",
   "metadata": {},
   "source": [
    "## 4. Leerzeilen"
   ]
  },
  {
   "cell_type": "markdown",
   "id": "coordinated-growth",
   "metadata": {},
   "source": [
    "Verwende Leerzeilen in Funktionen sparsam, um logische Abschnitte zu kennzeichnen."
   ]
  },
  {
   "cell_type": "markdown",
   "id": "royal-associate",
   "metadata": {},
   "source": [
    "## 5. Koderiung der Datei"
   ]
  },
  {
   "cell_type": "markdown",
   "id": "enhanced-addiction",
   "metadata": {},
   "source": [
    "Die Kodierung einer Datei ist in Python 3 immer UTF-8. Das hat den Vorteil, dass auch nicht englische Zeichen, wie Umlaute und Emojis verwendet werden können. Diese sollten allerdings nur außerhalb von Bezeichner genutzt werden. Bezeichner wie Variablennamen sollten keine Sonderzeichen oder Umlaute enthalten. \n",
    "\n",
    "👍:\n",
    "```python\n",
    "# In Strings können UTF-8 Zeichen eingebaut werden\n",
    "print(\"🤖 sagt: ääääähhhh Ich bin ein Roboter.\")\n",
    "variable = \"\"\"\n",
    "Ein String kann auch über mehrere Zeilen gehen.\n",
    "In diesem Fall müssen drei Anführungsstriche zum Öffnen und\n",
    "zum Schließen verwendet werden.\n",
    "\"\"\"\n",
    "n = \"Alternativ gibt es auch Escape Character. \\n beschreibt z.B. einen Zeilenumbruch\"\n",
    "```\n",
    "👎:\n",
    "```python\n",
    "# In Bezeichnern werden nur wenige Zeichen unterstützt.\n",
    "🤖 = \"Roboter\"\n",
    "käse = \"Hallo\"\n",
    "```"
   ]
  },
  {
   "cell_type": "markdown",
   "id": "bearing-magazine",
   "metadata": {},
   "source": [
    "## 6. Anführungszeichen"
   ]
  },
  {
   "cell_type": "markdown",
   "id": "sustainable-storm",
   "metadata": {},
   "source": [
    "In Python sind einfach angeführte Strings und doppelt angeführte Strings identisch. Wählt eine Regel und haltet euch daran. Wenn eine Zeichenkette jedoch einfache oder doppelte Anführungszeichen enthält, verwendet das andere, um Backslashes in der Zeichenkette zu vermeiden. Es verbessert die Lesbarkeit."
   ]
  },
  {
   "cell_type": "markdown",
   "id": "driving-benefit",
   "metadata": {},
   "source": [
    "## 7. Leerzeichen"
   ]
  },
  {
   "cell_type": "markdown",
   "id": "exclusive-matthew",
   "metadata": {},
   "source": [
    "#### Direkt in Klammern\n",
    "\n",
    "Ja: `spam(ham[1], {eggs: 2})`\n",
    "\n",
    "Nein: `spam( ham[ 1 ], { eggs: 2 } )`\n",
    "#### Zwischen letztem Komma und schließender Klammer\n",
    "\n",
    "Ja: `foo = (0,)`\n",
    "\n",
    "Nein: `bar = (0, )`\n",
    "#### Unmittelbar vor einem Komma, Semikolon oder Doppelpunkt\n",
    "\n",
    "Ja: `if x == 4: print x, y; x, y = y, x`\n",
    "\n",
    "Nein: `if x == 4 : print x , y ; x , y = y , x`\n",
    "#### In Slices\n",
    "\n",
    "In einem Slice verhält sich der Doppelpunkt jedoch wie ein binärer Operator und sollte auf beiden Seiten gleiche Mengen aufweisen (er wird als der Operator mit der niedrigsten Priorität behandelt). In einem erweiterten Slice müssen beide Doppelpunkte den gleichen Abstand aufweisen. Ausnahme: Wenn ein Slice-Parameter weggelassen wird, wird der Platz weggelassen In einem Slice verhält sich der Doppelpunkt jedoch wie ein binärer Operator und sollte auf beiden Seiten gleiche Mengen aufweisen (er wird als der Operator mit der niedrigsten Priorität behandelt). In einem erweiterten Slice müssen beide Doppelpunkte den gleichen Abstand aufweisen. Ausnahme: Wenn ein Slice-Parameter weggelassen wird, wird der Platz weggelassen\n",
    "\n",
    "Ja:\n",
    "```python\n",
    "ham[1:9], ham[1:9:3], ham[:9:3], ham[1::3], ham[1:9:]\n",
    "ham[lower:upper], ham[lower:upper:], ham[lower::step]\n",
    "ham[lower+offset : upper+offset]\n",
    "ham[: upper_fn(x) : step_fn(x)], ham[:: step_fn(x)]\n",
    "ham[lower + offset : upper + offset]\n",
    "```\n",
    "Nein:\n",
    "```python\n",
    "ham[lower + offset:upper + offset]\n",
    "ham[1: 9], ham[1 :9], ham[1:9 :3]\n",
    "ham[lower : : upper]\n",
    "ham[ : upper]\n",
    "```\n",
    "#### Unmittelbar vor der offenen Klammer, die die Argumentenliste eines Funktionsaufrufs startet\n",
    "\n",
    "Ja: `foo(1)`\n",
    "Nein: `bar (1)`\n",
    "#### Unmittelbar vor der offenen Klammer, die eine Indexierung oder ein Slicing startet:\n",
    "\n",
    "Ja: `dct['key'] = lst[index]`\n",
    "\n",
    "Nein: `dct ['key'] = lst [index]`\n",
    "#### Mehr als ein Leerzeichen um einen zugewiesenen (oder anderen) Operator herum, um ihn miteinander auszurichten\n",
    "\n",
    "Ja:\n",
    "```python\n",
    "x = 1\n",
    "y = 2\n",
    "long_variable = 3\n",
    "```\n",
    "Nein:\n",
    "```python\n",
    "x             = 1\n",
    "y             = 2\n",
    "long_variable = 3\n",
    "```"
   ]
  }
 ],
 "metadata": {
  "kernelspec": {
   "display_name": "Python 3",
   "language": "python",
   "name": "python3"
  },
  "language_info": {
   "codemirror_mode": {
    "name": "ipython",
    "version": 3
   },
   "file_extension": ".py",
   "mimetype": "text/x-python",
   "name": "python",
   "nbconvert_exporter": "python",
   "pygments_lexer": "ipython3",
   "version": "3.8.8"
  }
 },
 "nbformat": 4,
 "nbformat_minor": 5
}

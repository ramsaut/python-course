{
 "cells": [
  {
   "cell_type": "markdown",
   "id": "british-moisture",
   "metadata": {},
   "source": [
    "# Formating Output"
   ]
  },
  {
   "cell_type": "markdown",
   "id": "connected-expense",
   "metadata": {},
   "source": [
    "In Jupyter habt ihr viele Möglichkeiten Augaben zu formatieren."
   ]
  },
  {
   "cell_type": "markdown",
   "id": "constant-criterion",
   "metadata": {},
   "source": [
    "## Strings"
   ]
  },
  {
   "cell_type": "markdown",
   "id": "aboriginal-feature",
   "metadata": {},
   "source": [
    "Fangen wir mit einfachem Text an."
   ]
  },
  {
   "cell_type": "code",
   "execution_count": null,
   "id": "abstract-manor",
   "metadata": {},
   "outputs": [],
   "source": [
    "print(\"\"\"\n",
    "This is some printed text,\n",
    "with a nicely formatted output.\n",
    "\"\"\")"
   ]
  },
  {
   "cell_type": "markdown",
   "id": "initial-double",
   "metadata": {},
   "source": [
    "Wir können allerdings auch format strings nutzen um Ausgaben zu formatieren:"
   ]
  },
  {
   "cell_type": "code",
   "execution_count": null,
   "id": "verified-island",
   "metadata": {},
   "outputs": [],
   "source": [
    "name = \"Alice\"\n",
    "welcomeText = f\"Willkommen {name}!\"\n",
    "print(welcomeText)"
   ]
  },
  {
   "cell_type": "markdown",
   "id": "danish-lover",
   "metadata": {},
   "source": [
    "Wie du im oberen Beispiel sehen kannst beginnen format strings mit einem Ausrufezeichen vor dem öffenden Anführungszeichen. Variablen werden in geschweiften Klammern eingesetzt und automatisch ersetzt.\n",
    "Diese Variablen können auch formatiert werden:"
   ]
  },
  {
   "cell_type": "code",
   "execution_count": null,
   "id": "painful-scheduling",
   "metadata": {},
   "outputs": [],
   "source": [
    "kontostand = 100.20\n",
    "print(kontostand) # unformatiert\n",
    "print(f\"Kontostand: {kontostand:.2f} €\") # formatiert"
   ]
  },
  {
   "cell_type": "markdown",
   "id": "remarkable-seller",
   "metadata": {},
   "source": [
    "Alles hinter dem Doppelpunkt in den geschweiften Klammern definiert das Format der Ausgabe. Für Details zur Format String Syntax schaut in die [Doku](https://www.python.org/dev/peps/pep-3101/). Es gibt hier unheimlich viele Möglichkeiten.\n",
    "\n",
    "Im Beispiel wird durch .2 angegeben, dass zwei Nachkommastellen ausgegeben werden sollen. Das f gibt an, dass die Variable als floating point ausgeben wird."
   ]
  },
  {
   "cell_type": "markdown",
   "id": "northern-branch",
   "metadata": {},
   "source": [
    "### Aufgabe 1"
   ]
  },
  {
   "cell_type": "markdown",
   "id": "instructional-response",
   "metadata": {},
   "source": [
    "Gebt die folgenden Daten als Tabelle in Textform aus.\n",
    "Die Ausgabe so oder ähnlich aussehen:\n",
    "```\n",
    "Name   |    Kontostand | Alter\n",
    "------------------------------\n",
    "Alice  |       10.30 € |    34\n",
    "Bob    |  1000000.30 € |    15\n",
    "Carl   |      123.30 € |    72\n",
    "```"
   ]
  },
  {
   "cell_type": "code",
   "execution_count": null,
   "id": "standard-thinking",
   "metadata": {},
   "outputs": [],
   "source": [
    "kunden = [\n",
    "     (\"Alice\", 10.30, 34),\n",
    "     (\"Bob\", 1000000.30, 15),\n",
    "     (\"Carl\", 123.3, 72)\n",
    "]\n",
    "\n",
    "# Kopf ausgeben\n",
    "print(\"Name   |    Kontostand | Alter\")\n",
    "print(\"------------------------------\")\n",
    "\n",
    "for kunde in kunden:\n",
    "    # Hier deine Lösung\n",
    "    # Hinweis:\n",
    "    # Auf den Namen des Kunden kannst du wie folgt zugreifen:\n",
    "    kunde[0]\n",
    "    # Schaue in die Doku um Infos wie du eine bestimmte Breite füllen (fill) kannst \n",
    "    # und wie du das alignment definierst."
   ]
  },
  {
   "cell_type": "markdown",
   "id": "extra-breath",
   "metadata": {},
   "source": [
    "## Plots"
   ]
  },
  {
   "cell_type": "markdown",
   "id": "informed-sodium",
   "metadata": {},
   "source": [
    "Mit Jupyter können wir auch direkt im Notebook Plots anzeigen. Dafür kann [matplotlib](https://matplotlib.org/) verwendet werden. Plots können ähnlich wie in Matlab erstellt werden."
   ]
  },
  {
   "cell_type": "code",
   "execution_count": null,
   "id": "several-arbor",
   "metadata": {},
   "outputs": [],
   "source": [
    "# Matplotlib als Ausgabe aktivieren\n",
    "%matplotlib inline\n",
    "\n",
    "# Module importieren\n",
    "import matplotlib.pyplot as plt\n",
    "import numpy as np\n",
    "\n",
    "# Plot erstellen\n",
    "plt.plot(np.sin(np.linspace(0, 6)))\n",
    "\n",
    "# Plot anzeigen\n",
    "plt.show()"
   ]
  },
  {
   "cell_type": "markdown",
   "id": "afraid-upset",
   "metadata": {},
   "source": [
    "## IPython"
   ]
  },
  {
   "cell_type": "markdown",
   "id": "governing-bermuda",
   "metadata": {},
   "source": [
    "Jupyter baut auf IPython (Interactive Python) auf. Daher kann z.B. das Display Modul zur Ausgabe genutzt werden."
   ]
  },
  {
   "cell_type": "code",
   "execution_count": null,
   "id": "presidential-consequence",
   "metadata": {},
   "outputs": [],
   "source": [
    "# Ausgabe von Bildern\n",
    "from IPython.display import *\n",
    "xkcd = Image(\"static/self_description.png\")\n",
    "display(xkcd)"
   ]
  },
  {
   "cell_type": "code",
   "execution_count": null,
   "id": "british-excess",
   "metadata": {},
   "outputs": [],
   "source": [
    "# Ausgabe von Audio\n",
    "song = Audio(filename='static/audio_short.mp3')\n",
    "display(song)"
   ]
  },
  {
   "cell_type": "code",
   "execution_count": null,
   "id": "czech-sailing",
   "metadata": {},
   "outputs": [],
   "source": [
    "# Link zu Datei\n",
    "filelink = FileLink('static/audio_short.mp3')\n",
    "display(filelink)"
   ]
  },
  {
   "cell_type": "code",
   "execution_count": null,
   "id": "sporting-crawford",
   "metadata": {},
   "outputs": [],
   "source": [
    "# Inhalt eines Ordners\n",
    "filelinks = FileLinks(\"static/\")\n",
    "display(filelinks)"
   ]
  },
  {
   "cell_type": "code",
   "execution_count": null,
   "id": "sacred-complex",
   "metadata": {},
   "outputs": [],
   "source": [
    "# Formatierten Code\n",
    "code = Code(\"a = 'test'\", language=\"Python\")\n",
    "display(code)"
   ]
  },
  {
   "cell_type": "code",
   "execution_count": null,
   "id": "successful-analysis",
   "metadata": {},
   "outputs": [],
   "source": [
    "# Markdown\n",
    "title = Markdown(\"### Title\")\n",
    "display(title)"
   ]
  },
  {
   "cell_type": "code",
   "execution_count": null,
   "id": "capable-monitor",
   "metadata": {},
   "outputs": [],
   "source": [
    "# Progressbar\n",
    "import time\n",
    "\n",
    "# Bar geht bis max\n",
    "max = 100\n",
    "bar = ProgressBar(max)\n",
    "\n",
    "for i in bar:\n",
    "    # Irgendwas machen\n",
    "    time.sleep(0.1)\n",
    "clear_output()"
   ]
  },
  {
   "cell_type": "markdown",
   "id": "infectious-privacy",
   "metadata": {},
   "source": [
    "...und [vieles](https://ipython.readthedocs.io/en/stable/api/generated/IPython.display.html) mehr!"
   ]
  },
  {
   "cell_type": "markdown",
   "id": "boring-launch",
   "metadata": {},
   "source": [
    "### Aufgabe 2"
   ]
  },
  {
   "cell_type": "markdown",
   "id": "changing-reform",
   "metadata": {},
   "source": [
    "Binde die Website https://longdogechallenge.com/ als IFrame ein."
   ]
  },
  {
   "cell_type": "code",
   "execution_count": null,
   "id": "loved-championship",
   "metadata": {},
   "outputs": [],
   "source": [
    "# Deine Lösung hier"
   ]
  },
  {
   "cell_type": "markdown",
   "id": "southeast-shade",
   "metadata": {},
   "source": [
    "## Karten"
   ]
  },
  {
   "cell_type": "markdown",
   "id": "descending-deputy",
   "metadata": {},
   "source": [
    "In unserem Projekt werden wir auch Karten benötigen. Damit diese in Jupyter unterstützt werden muss zunächst die Erweiterung [ipyleaflet](https://ipyleaflet.readthedocs.io/en/latest/) installiert werden. Dazu kann die folgende Zeile ausgeführt werden.\n",
    "\n",
    "Das Ausrufezeichen! besagt, dass das Kommando ausgeführt wird wie wenn es in ein Terminal eingegeben wird.\n",
    "pip ist die Paketverwaltung von Python welche wir anweisen ipyleaflet zu installieren.\n",
    "\n",
    "Nach der Installation solltest du einmalig diese Seite neu laden."
   ]
  },
  {
   "cell_type": "code",
   "execution_count": null,
   "id": "psychological-allen",
   "metadata": {},
   "outputs": [],
   "source": [
    "# ipyleaflet installieren um Karten zu unterstützen \n",
    "!pip install ipyleaflet"
   ]
  },
  {
   "cell_type": "code",
   "execution_count": null,
   "id": "spoken-accommodation",
   "metadata": {},
   "outputs": [],
   "source": [
    "from ipyleaflet import Map, Marker, basemaps, basemap_to_tiles\n",
    "\n",
    "m = Map(\n",
    "    basemap=basemap_to_tiles(basemaps.NASAGIBS.ModisTerraTrueColorCR, \"2017-04-08\"),\n",
    "    center=(52.204793, 360.121558),\n",
    "    zoom=4\n",
    ")\n",
    "\n",
    "m.add_layer(Marker(location=(52.204793, 360.121558)))\n",
    "\n",
    "display(m)"
   ]
  },
  {
   "cell_type": "markdown",
   "id": "adaptive-owner",
   "metadata": {},
   "source": [
    "### Aufgabe 3"
   ]
  },
  {
   "cell_type": "markdown",
   "id": "correct-image",
   "metadata": {},
   "source": [
    "Auf der Karte im Beispiel oben ist Deutschland leider von einer Wolke verdeckt. Zeig eine Karte auf der Deutschlands größte Städte und Autobahnen zu erkennen sind. Deutschland sollte halbwegs zentriert sein."
   ]
  },
  {
   "cell_type": "code",
   "execution_count": null,
   "id": "processed-award",
   "metadata": {},
   "outputs": [],
   "source": [
    "# Deine Lösung hier\n",
    "from ipyleaflet import Map, Marker, basemaps, basemap_to_tiles\n",
    "\n",
    "m = Map(\n",
    "    basemap=basemap_to_tiles(basemaps.Esri.WorldStreetMap),\n",
    "    center=(51.204793, 369.121558),\n",
    "    zoom=5\n",
    ")\n",
    "\n",
    "display(m)"
   ]
  },
  {
   "cell_type": "code",
   "execution_count": null,
   "id": "cutting-territory",
   "metadata": {},
   "outputs": [],
   "source": []
  }
 ],
 "metadata": {
  "kernelspec": {
   "display_name": "Python 3",
   "language": "python",
   "name": "python3"
  },
  "language_info": {
   "codemirror_mode": {
    "name": "ipython",
    "version": 3
   },
   "file_extension": ".py",
   "mimetype": "text/x-python",
   "name": "python",
   "nbconvert_exporter": "python",
   "pygments_lexer": "ipython3",
   "version": "3.8.8"
  }
 },
 "nbformat": 4,
 "nbformat_minor": 5
}
